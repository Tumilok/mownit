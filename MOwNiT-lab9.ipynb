{
 "cells": [
  {
   "cell_type": "markdown",
   "metadata": {},
   "source": [
    "## Rozwiązywanie układów równań liniowych\n",
    "\n",
    "### Uladzislau Tumilovich"
   ]
  },
  {
   "cell_type": "markdown",
   "metadata": {},
   "source": [
    "#### Useful imports"
   ]
  },
  {
   "cell_type": "code",
   "execution_count": 126,
   "metadata": {},
   "outputs": [],
   "source": [
    "import time\n",
    "import copy\n",
    "import numpy as np\n",
    "from random import randrange\n",
    "from tabulate import tabulate\n",
    "import matplotlib.pyplot as plt"
   ]
  },
  {
   "cell_type": "markdown",
   "metadata": {},
   "source": [
    "#### Zadanie 1 \n",
    "Zaimplemenuj metodę eliminacji Gaussa bez pivotingu i z pivotingiem dla układu równań o dowolnym rozmiarze."
   ]
  },
  {
   "cell_type": "code",
   "execution_count": 127,
   "metadata": {},
   "outputs": [],
   "source": [
    "def gauss(A, B):\n",
    "    n = len(A)\n",
    "    for i in range(0, n - 1):\n",
    "        for j in range(i + 1, n):\n",
    "            to_mult = float(A[j][i]) / float(A[i][i])\n",
    "            for k in range(i, n):\n",
    "                A[j][k] -= to_mult * A[i][k]\n",
    "            B[j] -= to_mult * B[i]\n",
    "\n",
    "    res = [0] * n\n",
    "    res[n - 1] = float(B[n - 1]) / float(A[n - 1][n - 1])\n",
    "    for i in range(n - 2, -1, -1):\n",
    "        sum = B[i]\n",
    "        for j in range(i + 1, n):\n",
    "            sum -= A[i][j] * res[j]\n",
    "        res[i] = float(sum) / float(A[i][i])\n",
    "    return res\n",
    "\n",
    "def connect_matrices(A, B):\n",
    "    i = 0\n",
    "    for row in A:\n",
    "        row.append(B[i])\n",
    "        i += 1\n",
    "\n",
    "def gauss_pivoting(A, B):\n",
    "    connect_matrices(A, B)\n",
    "    n = len(A)\n",
    "    for i in range(n):\n",
    "        for j in range(i, n):\n",
    "            if abs(A[i][i]) < abs(A[j][i]):\n",
    "                A[i], A[j] = A[j], A[i]\n",
    "\n",
    "        for j in range(i + 1, n):\n",
    "            to_mult = float(A[j][i]) / float(A[i][i])\n",
    "            for k in range(i, n + 1):\n",
    "                A[j][k] -= to_mult * A[i][k]\n",
    "\n",
    "    res = [0] * n\n",
    "    res[n - 1] = float(A[n - 1][n]) / float(A[n - 1][n - 1])\n",
    "    for i in range(n - 1, -1, -1):\n",
    "        temp = 0\n",
    "        for j in range(i + 1, n):\n",
    "            temp += A[i][j] * res[j]\n",
    "        res[i] = float((A[i][n] - temp)) / float(A[i][i])\n",
    "    return res"
   ]
  },
  {
   "cell_type": "markdown",
   "metadata": {},
   "source": [
    "#### Zadanie 2\n",
    "Zademonstruj działanie algorytmu na macierzy o rozmiarze 5 x 5. Zademonstruj w jakiej sytuacji potrzebny jest pivoting i jak działa."
   ]
  },
  {
   "cell_type": "code",
   "execution_count": 135,
   "metadata": {},
   "outputs": [
    {
     "name": "stdout",
     "output_type": "stream",
     "text": [
      "\n",
      "Matrix A\n",
      "       1       2      -4      -6       3\n",
      "      -1       4       2      -8       6\n",
      "       7      -5       5      -2       9\n",
      "       1       4      -3       8      -1\n",
      "      -9       3      -2       3       6\n",
      "\n",
      "Matrix B\n",
      "[3, 6, 8, 3, 6]\n",
      "\n",
      "\n",
      " Solution                      |       x1 |      x2 |         x3 |       x4 |      x5\n",
      "-------------------------------+----------+---------+------------+----------+---------\n",
      " Correct solution              | 0.252364 | 0.48606 | -0.0134276 | 0.222842 | 1.01962\n",
      " Gauss method without pivoting | 0.252364 | 0.48606 | -0.0134276 | 0.222842 | 1.01962\n",
      " Gauss method with pivoting    | 0.252364 | 0.48606 | -0.0134276 | 0.222842 | 1.01962\n",
      "\n",
      "Matrix A\n",
      "     436     242     178     695     923\n",
      "     196     484     268     823     678\n",
      "     753     855     357     923     794\n",
      "     172     433     883     874     438\n",
      "     894     543     422     338     746\n",
      "\n",
      "Matrix B\n",
      "[329, 656, 883, 835, 633]\n",
      "\n",
      "\n",
      " Solution                      |        x1 |      x2 |       x3 |        x4 |       x5\n",
      "-------------------------------+-----------+---------+----------+-----------+----------\n",
      " Correct solution              | -0.520836 | 1.21535 | 0.560032 | -0.318232 | 0.415445\n",
      " Gauss method without pivoting | -0.520836 | 1.21535 | 0.560032 | -0.318232 | 0.415445\n",
      " Gauss method with pivoting    | -0.520836 | 1.21535 | 0.560032 | -0.318232 | 0.415445\n",
      "\n",
      "Matrix A\n",
      " 5.6e-15   45646   32325   67334   24645\n",
      "   83493 5.3e-15   96734   89201   34534\n",
      "   43453   85644 9.4e-15   31230   86575\n",
      "   87545   36854   86745 4.8e-15   63458\n",
      "   76356   57456   38563   74534 5.5e-15\n",
      "\n",
      "Matrix B\n",
      "[7, 3, 6, 2, 1]\n",
      "\n",
      "\n",
      " Solution                      |           x1 |          x2 |          x3 |         x4 |          x5\n",
      "-------------------------------+--------------+-------------+-------------+------------+-------------\n",
      " Correct solution              | -7.43751e-05 | 4.00435e-05 | 4.18613e-05 | 3.7083e-05 | 5.3644e-05\n",
      " Gauss method without pivoting |  0           | 2.15387e-05 | 0           | 0          | 0.000244141\n",
      " Gauss method with pivoting    | -7.43751e-05 | 4.00435e-05 | 4.18613e-05 | 3.7083e-05 | 5.3644e-05\n"
     ]
    }
   ],
   "source": [
    "def print_res(A, B):\n",
    "    print('\\nMatrix A')\n",
    "    print('\\n'.join([''.join(['{:8}'.format(item) for item in row]) \n",
    "      for row in A]))\n",
    "    print('\\nMatrix B')\n",
    "    print(B)\n",
    "    print('\\n')\n",
    "    \n",
    "    lib_res = np.linalg.solve(np.array(copy.deepcopy(A)), np.array(copy.deepcopy(B))).tolist()\n",
    "    gauss_res = gauss(copy.deepcopy(A), copy.deepcopy(B))\n",
    "    gauss_piv_res = gauss_pivoting(copy.deepcopy(A), copy.deepcopy(B))\n",
    "\n",
    "    table = [\n",
    "        ['Correct solution'] + lib_res,\n",
    "        ['Gauss method without pivoting'] + gauss_res,\n",
    "        ['Gauss method with pivoting'] + gauss_piv_res,\n",
    "    ]\n",
    "\n",
    "    print(tabulate(table, headers=['Solution', 'x1', 'x2', 'x3', 'x4', 'x5'], tablefmt='presto'))\n",
    "\n",
    "    \n",
    "A1 = [[1, 2, -4, -6, 3], \n",
    "      [-1, 4, 2, -8, 6], \n",
    "      [7, -5, 5, -2, 9],\n",
    "      [1, 4, -3, 8, -1],\n",
    "      [-9, 3, -2, 3, 6]]\n",
    "B1 = [3, 6, 8, 3, 6]\n",
    "\n",
    "A2 = [[436, 242, 178, 695, 923], \n",
    "      [196, 484, 268, 823, 678], \n",
    "      [753, 855, 357, 923, 794],\n",
    "      [172, 433, 883, 874, 438],\n",
    "      [894, 543, 422, 338, 746]]\n",
    "B2 = [329, 656, 883, 835, 633]\n",
    "\n",
    "A3 = [[0.0000000000000056, 45646, 32325, 67334, 24645], \n",
    "      [83493, 0.0000000000000053, 96734, 89201, 34534], \n",
    "      [43453, 85644, 0.0000000000000094, 31230, 86575],\n",
    "      [87545, 36854, 86745, 0.0000000000000048, 63458],\n",
    "      [76356, 57456, 38563, 74534, 0.0000000000000055]]\n",
    "B3 = [7, 3, 6, 2, 1]\n",
    "\n",
    "print_res(A1, B1)\n",
    "print_res(A2, B2)\n",
    "print_res(A3, B3)"
   ]
  },
  {
   "cell_type": "markdown",
   "metadata": {},
   "source": [
    "Jak widać z przykładu powyżej pierwsze dwa rozwiązania metodą gaussa z pivotingiem i bez pivotingu są dokładne, a trzecie ma niedoskonałość w rozwiązaniu metodą bez pivotingu. To wynika przy zaokrągleniu z dzielenia bardzo małych liczb na bardzo duże."
   ]
  },
  {
   "cell_type": "markdown",
   "metadata": {},
   "source": [
    "#### Zadanie 3\n",
    "Podaj teorytyczną złożoność obliczeniową algorytmu eliminacji Gaussa. Przeprowadź testy wydajności swojego algorytmu sprawdzając jego działanie dla różnych rozmiarów macierzy (testy powinny być wykonane poza środowiskiem jupyter). Aby wygenerować układ równań, wygeneruj wektor rozwiązań i macierz współczynników losując wartości (skorzystaj z funkcji poznanych w Ćwiczeniu 2) i następnie oblicz wektor wyrazów wolnych. "
   ]
  },
  {
   "cell_type": "markdown",
   "metadata": {},
   "source": [
    "Teoretyczna złożoność algorytmu eliminacji Gaussa bez pivoting'u - O(N^3), z pivoting'iem - O(N^2)"
   ]
  },
  {
   "cell_type": "code",
   "execution_count": 1,
   "metadata": {},
   "outputs": [
    {
     "ename": "SyntaxError",
     "evalue": "invalid syntax (<ipython-input-1-b66e42f907f9>, line 32)",
     "output_type": "error",
     "traceback": [
      "\u001b[0;36m  File \u001b[0;32m\"<ipython-input-1-b66e42f907f9>\"\u001b[0;36m, line \u001b[0;32m32\u001b[0m\n\u001b[0;31m    fd.write(f\"{matrix_size_list[i]} \\t\\t {with_pivoting_list[i]} \\t {without_pivoting_list[i]}\\n\")\u001b[0m\n\u001b[0m                                                                                                 ^\u001b[0m\n\u001b[0;31mSyntaxError\u001b[0m\u001b[0;31m:\u001b[0m invalid syntax\n"
     ]
    }
   ],
   "source": [
    "without_pivoting_list = []\n",
    "with_pivoting_list = []\n",
    "matrix_size_list = []\n",
    "\n",
    "def get_random_matrix(n):\n",
    "    return np.random.rand(n, n)\n",
    "\n",
    "\n",
    "def get_random_vector(n):\n",
    "    return np.random.rand(n)\n",
    "\n",
    "\n",
    "def test():\n",
    "    n = randrange(10, 300)\n",
    "    A = get_random_matrix(n).tolist()\n",
    "    B = get_random_vector(n).tolist()\n",
    "\n",
    "    s1_time = time.time()\n",
    "    gauss(copy.deepcopy(A), copy.deepcopy(B))\n",
    "    e1_time = time.time()\n",
    "\n",
    "    s2_time = time.time()\n",
    "    gauss_pivoting(copy.deepcopy(A), copy.deepcopy(B))\n",
    "    e2_time = time.time()\n",
    "\n",
    "    return e1_time - s1_time, e2_time - s2_time, n\n",
    "\n",
    "def write_diagram(values, sizes, title):\n",
    "    plt.plot(sizes, values, 'bo', label=\"Gauss \" + title)\n",
    "    plt.xlabel(\"Matrix size\")\n",
    "    plt.ylabel(\"Time\")\n",
    "    plt.title(\"Pomiary czasu metody eliminacji Gaussa\")\n",
    "    plt.legend()\n",
    "    plt.savefig(title)\n",
    "\n",
    "def write_to_file():\n",
    "    fd = open(\"test_results.txt\", \"w+\")\n",
    "    fd.write(\"With pivoting \\t Without pivoting \\t Matrix size\\n\")\n",
    "    for i in range(500):\n",
    "        fd.write(f\"{with_pivoting_list[i]} \\t\\t {without_pivoting_list[i]} \\t {matrix_size_list[i]}\\n\")\n",
    "    fd.close()\n",
    "\n",
    "if __name__ == '__main__':\n",
    "    for i in range(500):\n",
    "        without_pivot, with_pivot, n = test()\n",
    "        without_pivoting_list.append(with_pivot)\n",
    "        with_pivoting_list.append(with_pivot)\n",
    "        matrix_size_list.append(n)\n",
    "\n",
    "    write_to_file();\n",
    "    write_diagram(without_pivoting_list, matrix_size_list, \"without pivoting\")\n",
    "    write_diagram(with_pivoting_list, matrix_size_list, \"with pivoting\")"
   ]
  }
 ],
 "metadata": {
  "kernelspec": {
   "display_name": "Python 3",
   "language": "python",
   "name": "python3"
  },
  "language_info": {
   "codemirror_mode": {
    "name": "ipython",
    "version": 2
   },
   "file_extension": ".py",
   "mimetype": "text/x-python",
   "name": "python",
   "nbconvert_exporter": "python",
   "pygments_lexer": "ipython2",
   "version": "2.7.17"
  }
 },
 "nbformat": 4,
 "nbformat_minor": 4
}
