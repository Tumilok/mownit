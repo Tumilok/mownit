{
 "cells": [
  {
   "cell_type": "markdown",
   "metadata": {},
   "source": [
    "# MOwNiT laboratorium nr 1 - Arytmetyka komputerowa\n",
    "\n",
    "Standard IEEE-754 http://babbage.cs.qc.cuny.edu/IEEE-754/\n",
    "\n",
    "### Zadanie 1\n",
    "Wykorzystaj funkcję finfo z biblioteki numpy aby określić precyzję i zakres różnych typów danych reprezentujących liczby zmienno-przecinkowe. Wyniki badania przedstaw w postaci zestawienia tabelrycznego. "
   ]
  },
  {
   "cell_type": "code",
   "execution_count": 6,
   "metadata": {},
   "outputs": [
    {
     "name": "stdout",
     "output_type": "stream",
     "text": [
      "1.600000000000000\n",
      "1.6000000000000001\n",
      "1.60000000000000008882\n",
      "1.600000000000000088817841970013\n"
     ]
    },
    {
     "data": {
      "text/plain": [
       "finfo(resolution=1e-15, min=-1.7976931348623157e+308, max=1.7976931348623157e+308, dtype=float64)"
      ]
     },
     "execution_count": 6,
     "metadata": {},
     "output_type": "execute_result"
    }
   ],
   "source": [
    "import numpy as np\n",
    "np.finfo(float)\n",
    "a = 1.6\n",
    "print '%.15f' % a \n",
    "print '%.16f' % a\n",
    "print '%.20f' % a\n",
    "print '%.30f' % a\n",
    "np.finfo(a)"
   ]
  },
  {
   "cell_type": "markdown",
   "metadata": {},
   "source": [
    "### Zadanie 2 \n",
    "Napisz funkcje, która dla dowolnej liczby zmiennoprzecinkowej w precyzji 64-bitowej (w standardzie IEEE 754) przedstawi w wersji dziesiętnej i binarnej składniki liczby: znak, wykładnik i mantysa. Można wykorzystać między innymi bibliotekę bitstring. Zbadaj jak reprezentowaną są poszczególne składniki tego formatu: zakres, sposób kodowania liczby etc. "
   ]
  },
  {
   "cell_type": "code",
   "execution_count": 32,
   "metadata": {},
   "outputs": [
    {
     "name": "stdout",
     "output_type": "stream",
     "text": [
      "0b0\n"
     ]
    }
   ],
   "source": [
    "import bitstring\n",
    "import math\n",
    "\n",
    "def convert(num, k):\n",
    "    result = BitArray()\n",
    "    a = math.floor(num)        \n",
    "    \n",
    "    \n",
    "convert(num=3.7, k=5)"
   ]
  },
  {
   "cell_type": "markdown",
   "metadata": {},
   "source": [
    "### Zadanie 3 \n",
    "Wykorzystaj funkcję nextafter() z biblioteki numpy (lub inny sposób) i sprawdź rozdzielczość typu float (jakie mają wartości najbliższe sąsiadujące liczby float). Zaprezentuj wynik korzystając z funkcji z Zadania 2. "
   ]
  },
  {
   "cell_type": "code",
   "execution_count": null,
   "metadata": {},
   "outputs": [],
   "source": [
    "4.29 - sala"
   ]
  },
  {
   "cell_type": "markdown",
   "metadata": {
    "collapsed": true
   },
   "source": [
    "### Zadanie 5\n",
    "Sprawdź czym jest postać znormalizowana liczby typu float. Poniższy program generuje ciąg liczb. Wyświetl ich postać binarną i sprawdź czy są w postaci znormalizowanej (napisz stosowny kod, który to sprawdza). "
   ]
  },
  {
   "cell_type": "code",
   "execution_count": 25,
   "metadata": {},
   "outputs": [],
   "source": [
    "a=np.float32(1.1)\n",
    "for i in range(0, 149):\n",
    "    a=a/np.float32(2.0)"
   ]
  },
  {
   "cell_type": "markdown",
   "metadata": {},
   "source": [
    "### Zadanie 4\n",
    "Porównać reprezentację bitową liczby 1/3 dla typów float o różnej precyzji: float16, float32, float64. Sprawdź co się dzieje gdy zmienna o mniejszej precyzji konwertowana jest do wyższej. "
   ]
  },
  {
   "cell_type": "markdown",
   "metadata": {
    "collapsed": true
   },
   "source": [
    "### Zadanie 6\n",
    "Wyjaśnij dlaczego poniższy program nie działa prawidłowo. Sprawdź co się stanie gdy użyjemy typów o mniejszej precyzji. Zaproponuj inny sposób sumowania, który będzie dawał dokładne wyniki. "
   ]
  },
  {
   "cell_type": "code",
   "execution_count": 26,
   "metadata": {},
   "outputs": [
    {
     "name": "stdout",
     "output_type": "stream",
     "text": [
      "9531258.666974738\n",
      "9531258.654533565\n"
     ]
    }
   ],
   "source": [
    "N = 100000000\n",
    "C = 0.09531258654533566;\n",
    "\n",
    "sum = 0.0 \n",
    "for i in range(0, N):\n",
    "    sum += C\n",
    "    \n",
    "print(sum)\n",
    "print(N*C)"
   ]
  },
  {
   "cell_type": "code",
   "execution_count": null,
   "metadata": {},
   "outputs": [],
   "source": []
  }
 ],
 "metadata": {
  "kernelspec": {
   "display_name": "Python 3",
   "language": "python",
   "name": "python3"
  },
  "language_info": {
   "codemirror_mode": {
    "name": "ipython",
    "version": 2
   },
   "file_extension": ".py",
   "mimetype": "text/x-python",
   "name": "python",
   "nbconvert_exporter": "python",
   "pygments_lexer": "ipython2",
   "version": "2.7.17"
  }
 },
 "nbformat": 4,
 "nbformat_minor": 2
}
