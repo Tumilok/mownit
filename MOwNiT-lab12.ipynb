{
 "cells": [
  {
   "cell_type": "markdown",
   "metadata": {},
   "source": [
    "## Rozwiązywanie równań różniczkowych metodami algebry liniowej \n",
    "\n",
    "#### Zadanie 1\n",
    "Zaimplementuj metodą iteracyjną rozwiązywania układów równań Czebyszewa. \n",
    "\n",
    "\n",
    "#### Zadanie 2\n",
    "Zapoznaj się z prezentacją dr Rycerz o sposobie rozwiązywaniu równania różniczkowego Poissona dla dwóch wymiarów (metoda różnic skończonych).\n",
    "\n",
    "Rozwiąż równanie Poissona w przestrzeni 2D. Funkcja rozkładu źródeł ma postać: $$\\rho(x,y) = \\frac{x+y}{2}$$    \n",
    "Obliczenia dokonujemy w obszarze dwuwymiarowym: $$\\Omega = [0,10] \\times [0,10]$$ Siatkę proszę dobrać samodzielnie tak by obliczenie nie było zbyt długie (na podstawie wcześniejszy testów metod iteracyjnych).   \n",
    "Warunki brzegowe jednorodne Dirichleta: 0 na brzegach. \n",
    "\n",
    "Przedstaw sposób konstrukcji układu równań w metodzie różnic skończonych dla tego równiania. Przedstaw rozwiązanie graficznie. \n",
    "\n",
    "#### Zadanie 3\n",
    "Zastosuj do otrzymanego układu równań metody Gaussa-Seidla, SOR i Czebyszewa. Porównaj zbieżność tych metod. \n"
   ]
  },
  {
   "cell_type": "code",
   "execution_count": null,
   "metadata": {},
   "outputs": [],
   "source": []
  }
 ],
 "metadata": {
  "kernelspec": {
   "display_name": "Python 3",
   "language": "python",
   "name": "python3"
  },
  "language_info": {
   "codemirror_mode": {
    "name": "ipython",
    "version": 3
   },
   "file_extension": ".py",
   "mimetype": "text/x-python",
   "name": "python",
   "nbconvert_exporter": "python",
   "pygments_lexer": "ipython3",
   "version": "3.8.2"
  }
 },
 "nbformat": 4,
 "nbformat_minor": 4
}
