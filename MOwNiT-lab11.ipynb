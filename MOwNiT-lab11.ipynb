{
 "cells": [
  {
   "cell_type": "markdown",
   "metadata": {},
   "source": [
    "## Rozwiązywanie układów równań liniowych metodami interacyjnymi\n",
    "\n",
    "### Utills"
   ]
  },
  {
   "cell_type": "code",
   "execution_count": 340,
   "metadata": {},
   "outputs": [],
   "source": [
    "import numpy as np\n",
    "from random import randrange\n",
    "import random\n",
    "\n",
    "def get_random_vector(n):\n",
    "    return np.random.uniform(low=-10.5, high=13.3, size=(n))\n",
    "\n",
    "\n",
    "def get_random_matrix(n):\n",
    "    A = np.random.uniform(low=-10.5, high=13.3, size=(n,n))\n",
    "    A = A + A.T - np.diag(A.diagonal())\n",
    "    for i in range(n):\n",
    "        sum = 0\n",
    "        for j in range(n):\n",
    "            if i != j:\n",
    "                sum += abs(A[i][j])\n",
    "        A[i][i] = sum\n",
    "    return A"
   ]
  },
  {
   "cell_type": "markdown",
   "metadata": {},
   "source": [
    "### Zadanie 1\n",
    "Zaimplementuj metodę Jacobiego. Podaj warunki jej stosowalności. Wygeneruj co najmniej trzy odpowiednie macierze o różnych wielkościach i sprawdź działanie swojej metody. Zwróć uwagę na zbieżność tej metody. \n",
    "\n",
    "Metoda Jacobiego spełnia warunki stosowalności, jeśli macierz A jest macierzą nieredukowalną oraz diagonalnie dominującą."
   ]
  },
  {
   "cell_type": "code",
   "execution_count": 348,
   "metadata": {},
   "outputs": [
    {
     "ename": "LinAlgError",
     "evalue": "Singular matrix",
     "output_type": "error",
     "traceback": [
      "\u001b[0;31m---------------------------------------------------------------------------\u001b[0m",
      "\u001b[0;31mLinAlgError\u001b[0m                               Traceback (most recent call last)",
      "\u001b[0;32m<ipython-input-348-092ce22bfc63>\u001b[0m in \u001b[0;36m<module>\u001b[0;34m()\u001b[0m\n\u001b[1;32m     28\u001b[0m \u001b[0;34m\u001b[0m\u001b[0m\n\u001b[1;32m     29\u001b[0m \u001b[0;32mfor\u001b[0m \u001b[0mi\u001b[0m \u001b[0;32min\u001b[0m \u001b[0mrange\u001b[0m\u001b[0;34m(\u001b[0m\u001b[0;36m5\u001b[0m\u001b[0;34m,\u001b[0m \u001b[0;36m15\u001b[0m\u001b[0;34m,\u001b[0m \u001b[0;36m3\u001b[0m\u001b[0;34m)\u001b[0m\u001b[0;34m:\u001b[0m\u001b[0;34m\u001b[0m\u001b[0m\n\u001b[0;32m---> 30\u001b[0;31m     \u001b[0mtest_jacobiego_method\u001b[0m\u001b[0;34m(\u001b[0m\u001b[0mi\u001b[0m\u001b[0;34m)\u001b[0m\u001b[0;34m\u001b[0m\u001b[0m\n\u001b[0m",
      "\u001b[0;32m<ipython-input-348-092ce22bfc63>\u001b[0m in \u001b[0;36mtest_jacobiego_method\u001b[0;34m(n)\u001b[0m\n\u001b[1;32m     18\u001b[0m \u001b[0;34m\u001b[0m\u001b[0m\n\u001b[1;32m     19\u001b[0m     \u001b[0mres\u001b[0m\u001b[0;34m,\u001b[0m \u001b[0miterations\u001b[0m \u001b[0;34m=\u001b[0m \u001b[0mjacobiego_method\u001b[0m\u001b[0;34m(\u001b[0m\u001b[0mA\u001b[0m\u001b[0;34m,\u001b[0m \u001b[0mB\u001b[0m\u001b[0;34m,\u001b[0m \u001b[0;36m1000\u001b[0m\u001b[0;34m)\u001b[0m\u001b[0;34m\u001b[0m\u001b[0m\n\u001b[0;32m---> 20\u001b[0;31m     \u001b[0mcorrect_res\u001b[0m \u001b[0;34m=\u001b[0m \u001b[0mnp\u001b[0m\u001b[0;34m.\u001b[0m\u001b[0mlinalg\u001b[0m\u001b[0;34m.\u001b[0m\u001b[0msolve\u001b[0m\u001b[0;34m(\u001b[0m\u001b[0mA\u001b[0m\u001b[0;34m,\u001b[0m \u001b[0mB\u001b[0m\u001b[0;34m)\u001b[0m\u001b[0;34m\u001b[0m\u001b[0m\n\u001b[0m\u001b[1;32m     21\u001b[0m     \u001b[0;32mprint\u001b[0m\u001b[0;34m(\u001b[0m\u001b[0;34m'matrix size '\u001b[0m\u001b[0;34m,\u001b[0m \u001b[0mn\u001b[0m\u001b[0;34m)\u001b[0m\u001b[0;34m\u001b[0m\u001b[0m\n\u001b[1;32m     22\u001b[0m     \u001b[0;32mprint\u001b[0m\u001b[0;34m(\u001b[0m\u001b[0;34m\"Correct result: \"\u001b[0m\u001b[0;34m)\u001b[0m\u001b[0;34m\u001b[0m\u001b[0m\n",
      "\u001b[0;32m/home/tumilok/.local/lib/python2.7/site-packages/numpy/linalg/linalg.pyc\u001b[0m in \u001b[0;36msolve\u001b[0;34m(a, b)\u001b[0m\n\u001b[1;32m    401\u001b[0m     \u001b[0msignature\u001b[0m \u001b[0;34m=\u001b[0m \u001b[0;34m'DD->D'\u001b[0m \u001b[0;32mif\u001b[0m \u001b[0misComplexType\u001b[0m\u001b[0;34m(\u001b[0m\u001b[0mt\u001b[0m\u001b[0;34m)\u001b[0m \u001b[0;32melse\u001b[0m \u001b[0;34m'dd->d'\u001b[0m\u001b[0;34m\u001b[0m\u001b[0m\n\u001b[1;32m    402\u001b[0m     \u001b[0mextobj\u001b[0m \u001b[0;34m=\u001b[0m \u001b[0mget_linalg_error_extobj\u001b[0m\u001b[0;34m(\u001b[0m\u001b[0m_raise_linalgerror_singular\u001b[0m\u001b[0;34m)\u001b[0m\u001b[0;34m\u001b[0m\u001b[0m\n\u001b[0;32m--> 403\u001b[0;31m     \u001b[0mr\u001b[0m \u001b[0;34m=\u001b[0m \u001b[0mgufunc\u001b[0m\u001b[0;34m(\u001b[0m\u001b[0ma\u001b[0m\u001b[0;34m,\u001b[0m \u001b[0mb\u001b[0m\u001b[0;34m,\u001b[0m \u001b[0msignature\u001b[0m\u001b[0;34m=\u001b[0m\u001b[0msignature\u001b[0m\u001b[0;34m,\u001b[0m \u001b[0mextobj\u001b[0m\u001b[0;34m=\u001b[0m\u001b[0mextobj\u001b[0m\u001b[0;34m)\u001b[0m\u001b[0;34m\u001b[0m\u001b[0m\n\u001b[0m\u001b[1;32m    404\u001b[0m \u001b[0;34m\u001b[0m\u001b[0m\n\u001b[1;32m    405\u001b[0m     \u001b[0;32mreturn\u001b[0m \u001b[0mwrap\u001b[0m\u001b[0;34m(\u001b[0m\u001b[0mr\u001b[0m\u001b[0;34m.\u001b[0m\u001b[0mastype\u001b[0m\u001b[0;34m(\u001b[0m\u001b[0mresult_t\u001b[0m\u001b[0;34m,\u001b[0m \u001b[0mcopy\u001b[0m\u001b[0;34m=\u001b[0m\u001b[0mFalse\u001b[0m\u001b[0;34m)\u001b[0m\u001b[0;34m)\u001b[0m\u001b[0;34m\u001b[0m\u001b[0m\n",
      "\u001b[0;32m/home/tumilok/.local/lib/python2.7/site-packages/numpy/linalg/linalg.pyc\u001b[0m in \u001b[0;36m_raise_linalgerror_singular\u001b[0;34m(err, flag)\u001b[0m\n\u001b[1;32m     95\u001b[0m \u001b[0;34m\u001b[0m\u001b[0m\n\u001b[1;32m     96\u001b[0m \u001b[0;32mdef\u001b[0m \u001b[0m_raise_linalgerror_singular\u001b[0m\u001b[0;34m(\u001b[0m\u001b[0merr\u001b[0m\u001b[0;34m,\u001b[0m \u001b[0mflag\u001b[0m\u001b[0;34m)\u001b[0m\u001b[0;34m:\u001b[0m\u001b[0;34m\u001b[0m\u001b[0m\n\u001b[0;32m---> 97\u001b[0;31m     \u001b[0;32mraise\u001b[0m \u001b[0mLinAlgError\u001b[0m\u001b[0;34m(\u001b[0m\u001b[0;34m\"Singular matrix\"\u001b[0m\u001b[0;34m)\u001b[0m\u001b[0;34m\u001b[0m\u001b[0m\n\u001b[0m\u001b[1;32m     98\u001b[0m \u001b[0;34m\u001b[0m\u001b[0m\n\u001b[1;32m     99\u001b[0m \u001b[0;32mdef\u001b[0m \u001b[0m_raise_linalgerror_nonposdef\u001b[0m\u001b[0;34m(\u001b[0m\u001b[0merr\u001b[0m\u001b[0;34m,\u001b[0m \u001b[0mflag\u001b[0m\u001b[0;34m)\u001b[0m\u001b[0;34m:\u001b[0m\u001b[0;34m\u001b[0m\u001b[0m\n",
      "\u001b[0;31mLinAlgError\u001b[0m: Singular matrix"
     ]
    }
   ],
   "source": [
    "def jacobiego_method(A, B, N):\n",
    "    x = np.zeros(len(A[0]))\n",
    "    D = np.diag(A)\n",
    "    R = A - np.diag(D)\n",
    "    \n",
    "    for i in range(N):\n",
    "        new_x = np.dot(np.diag(1 / D), B - np.dot(R, x))\n",
    "        if np.linalg.norm(new_x - x) < 1e-10:\n",
    "            return new_x, i\n",
    "        x = new_x\n",
    "        \n",
    "    return x, N\n",
    "\n",
    "\n",
    "def test_jacobiego_method(n):\n",
    "    A = get_random_matrix(n)\n",
    "    B = get_random_vector(n)\n",
    "   \n",
    "    res, iterations = jacobiego_method(A, B, 1000)\n",
    "    correct_res = np.linalg.solve(A, B)\n",
    "    print('matrix size ', n)\n",
    "    print(\"Correct result: \")\n",
    "    print(correct_res)\n",
    "    print(\"Jacobiego result:\")\n",
    "    print(res)\n",
    "    print(\"Iterations number:\", iterations)\n",
    "    \n",
    "\n",
    "for i in range(5, 15, 3):\n",
    "    test_jacobiego_method(i)\n"
   ]
  },
  {
   "cell_type": "markdown",
   "metadata": {},
   "source": [
    "Jak widać z testów algorytm działa poprawnie."
   ]
  },
  {
   "cell_type": "markdown",
   "metadata": {},
   "source": [
    "### Zadanie 2\n",
    "Zaimplementuj metodę Gaussa-Seidla i kolejnych nadrelaksacji (successive over-relaxation). Podaj warunki stosowalności tych metod. Przeprowadź badanie działania swoich implementacji analogicznie jak w poprzednim zadaniu. Porównaj zbieżność wszystkich trzech metod.\n",
    "\n",
    "Metoda Gaussa-Seidla spełnia warunki stosowalności, jeśli macierz A jest macierzą nieredukowalną oraz diagonalnie dominującą."
   ]
  },
  {
   "cell_type": "code",
   "execution_count": 347,
   "metadata": {},
   "outputs": [
    {
     "name": "stdout",
     "output_type": "stream",
     "text": [
      "('matrix size ', 5)\n",
      "Correct result: \n",
      "[ 0.06007411 -0.01140587 -0.13886013  0.01241818  0.27861815]\n",
      "Gaussa-Seidla result:\n",
      "[ 0.06007411 -0.01140587 -0.13886013  0.01241818  0.27861815]\n",
      "('Iterations number:', 54)\n",
      "('matrix size ', 8)\n",
      "Correct result: \n",
      "[-0.12027399  0.10988583  0.17651817 -0.14420489 -0.07091756 -0.13888164\n",
      "  0.00194861 -0.11453759]\n",
      "Gaussa-Seidla result:\n",
      "[-0.12027399  0.10988583  0.17651817 -0.14420489 -0.07091756 -0.13888164\n",
      "  0.00194861 -0.11453759]\n",
      "('Iterations number:', 20)\n",
      "('matrix size ', 11)\n",
      "Correct result: \n",
      "[ 0.08496573 -0.00120639 -0.17136677  0.15087364  0.20402514  0.15829568\n",
      "  0.0316235  -0.0992635  -0.00341183 -0.22717849  0.14841047]\n",
      "Gaussa-Seidla result:\n",
      "[ 0.08496573 -0.00120639 -0.17136677  0.15087364  0.20402514  0.15829568\n",
      "  0.0316235  -0.0992635  -0.00341183 -0.22717849  0.14841047]\n",
      "('Iterations number:', 30)\n",
      "('matrix size ', 14)\n",
      "Correct result: \n",
      "[ 0.03545921  0.13740671  0.02996968 -0.12493287  0.14236997  0.004671\n",
      "  0.11841591  0.00591958  0.13693188  0.05089707  0.06923303  0.12369111\n",
      "  0.01305603 -0.04318364]\n",
      "Gaussa-Seidla result:\n",
      "[ 0.03545921  0.13740671  0.02996968 -0.12493287  0.14236997  0.004671\n",
      "  0.11841591  0.00591958  0.13693188  0.05089707  0.06923303  0.12369111\n",
      "  0.01305603 -0.04318364]\n",
      "('Iterations number:', 25)\n"
     ]
    }
   ],
   "source": [
    "def gaussa_seidla_method(A, B, N):\n",
    "    x = np.zeros(len(A[0]))\n",
    "    \n",
    "    for i in range(N):\n",
    "        new_x = np.zeros(len(A[0]))\n",
    "        for j in range(A.shape[0]):\n",
    "            s1 = np.dot(A[j, :j], new_x[:j])\n",
    "            s2 = np.dot(A[j, j + 1:], x[j + 1:])\n",
    "            new_x[j] = (B[j] - s1 - s2) / A[j, j]\n",
    "        if np.linalg.norm(new_x - x) < 1e-10:\n",
    "            return new_x, i\n",
    "        x = new_x\n",
    "    return x, N\n",
    "\n",
    "\n",
    "def test_gaussa_seidla_method(n):\n",
    "    A = get_random_matrix(n)\n",
    "    B = get_random_vector(n)\n",
    "   \n",
    "    res, iterations = gaussa_seidla_method(A, B, 1000)\n",
    "    correct_res = np.linalg.solve(A, B)\n",
    "    print('matrix size ', n)\n",
    "    print(\"Correct result: \")\n",
    "    print(correct_res)\n",
    "    print(\"Gaussa-Seidla result:\")\n",
    "    print(res)\n",
    "    print(\"Iterations number:\", iterations)\n",
    "    \n",
    "\n",
    "for i in range(5, 15, 3):\n",
    "    test_gaussa_seidla_method(i)"
   ]
  },
  {
   "cell_type": "markdown",
   "metadata": {},
   "source": [
    "Jak widać z testów algorytm działa poprawnie.\n",
    "\n",
    "Metoda successive over-relaxation spełnia warunki stosowalności, jeśli macierz A jest macierzą nieredukowalną oraz diagonalnie dominującą."
   ]
  },
  {
   "cell_type": "code",
   "execution_count": 346,
   "metadata": {},
   "outputs": [
    {
     "name": "stdout",
     "output_type": "stream",
     "text": [
      "('matrix size ', 5)\n",
      "Correct result: \n",
      "[ 0.59440904 -0.51118647 -0.72106637  0.42229232 -0.0839743 ]\n",
      "SOR result:\n",
      "[ 0.59440904 -0.51118647 -0.72106637  0.42229232 -0.0839743 ]\n",
      "('Iterations number:', 4)\n",
      "('matrix size ', 8)\n",
      "Correct result: \n",
      "[ 0.07662817  0.16062039  0.17864795 -0.07682647  0.17060026  0.17286401\n",
      "  0.01012103  0.09185987]\n",
      "SOR result:\n",
      "[ 0.07662817  0.16062039  0.17864795 -0.07682647  0.17060026  0.17286401\n",
      "  0.01012103  0.09185987]\n",
      "('Iterations number:', 7)\n",
      "('matrix size ', 11)\n",
      "Correct result: \n",
      "[ 0.08699728 -0.0930432  -0.05891878 -0.1136331  -0.18287995  0.13923411\n",
      " -0.10672368 -0.03917497 -0.06771489  0.03972803  0.03147531]\n",
      "SOR result:\n",
      "[ 0.08699728 -0.0930432  -0.05891878 -0.1136331  -0.18287995  0.13923411\n",
      " -0.10672368 -0.03917497 -0.06771489  0.03972803  0.03147531]\n",
      "('Iterations number:', 10)\n",
      "('matrix size ', 14)\n",
      "Correct result: \n",
      "[ 0.00405041 -0.01419479 -0.0834915   0.13950805  0.05011546 -0.07449952\n",
      "  0.02751264 -0.07726196  0.01401379  0.1415579   0.02850807 -0.0040164\n",
      "  0.07247982 -0.1205514 ]\n",
      "SOR result:\n",
      "[ 0.00405041 -0.01419479 -0.0834915   0.13950805  0.05011546 -0.07449952\n",
      "  0.02751264 -0.07726196  0.01401379  0.1415579   0.02850807 -0.0040164\n",
      "  0.07247982 -0.1205514 ]\n",
      "('Iterations number:', 13)\n"
     ]
    }
   ],
   "source": [
    "def sor_method(A, B, omega, N):\n",
    "    x = np.zeros(len(A[0]))\n",
    "    new_x = np.zeros(len(A[0]))\n",
    "\n",
    "    for i in range(N):\n",
    "        for j in range (B.shape[0]):\n",
    "            x[j] = (B[j] - (np.dot(A[j, j + 1:], new_x[j + 1:]) + \n",
    "                            np.dot(A[j, :j], x[:j]))) / A[j, j]\n",
    "            x[j] = np.dot(x[j], omega) + np.dot(new_x[j], (1 - omega))\n",
    "\n",
    "        if np.linalg.norm(np.dot(A, x) - B) < 1e-10:\n",
    "            return new_x, j\n",
    "        new_x = x\n",
    "    return x, N\n",
    "\n",
    "\n",
    "def test_sor_method(n):\n",
    "    A = get_random_matrix(n)\n",
    "    B = get_random_vector(n)\n",
    "   \n",
    "    res, iterations = sor_method(A, B, 0.5, 1000)\n",
    "    correct_res = np.linalg.solve(A, B)\n",
    "    print('matrix size ', n)\n",
    "    print(\"Correct result: \")\n",
    "    print(correct_res)\n",
    "    print(\"SOR result:\")\n",
    "    print(res)\n",
    "    print(\"Iterations number:\", iterations)\n",
    "    \n",
    "\n",
    "for i in range(5, 15, 3):\n",
    "    test_sor_method(i)"
   ]
  },
  {
   "cell_type": "markdown",
   "metadata": {},
   "source": [
    "Jak widać z testów algorytm działa poprawnie."
   ]
  },
  {
   "cell_type": "code",
   "execution_count": 345,
   "metadata": {},
   "outputs": [
    {
     "name": "stdout",
     "output_type": "stream",
     "text": [
      "('Jacobiego iterations number:', 62)\n",
      "('Gaussa-Seidla iterations number:', 24)\n",
      "('SOR iterations number:', 9)\n"
     ]
    }
   ],
   "source": [
    "def compare_iterations(n):\n",
    "    A = get_random_matrix(n)\n",
    "    B = get_random_vector(n)\n",
    "    \n",
    "    _, iterations1 = jacobiego_method(A, B, 1000)\n",
    "    _, iterations2 = gaussa_seidla_method(A, B, 1000)\n",
    "    _, iterations3 = sor_method(A, B, 0.5, 1000)\n",
    "    \n",
    "    print(\"Jacobiego iterations number:\", iterations1)\n",
    "    print(\"Gaussa-Seidla iterations number:\", iterations2)\n",
    "    print(\"SOR iterations number:\", iterations3)\n",
    "    \n",
    "compare_iterations(10)"
   ]
  },
  {
   "cell_type": "markdown",
   "metadata": {},
   "source": [
    "Metoda SOR ma najmniej iteracji, na drugim miejscu metoda Gaussa-Seidla, na trzecim metoda Jacobiego."
   ]
  },
  {
   "cell_type": "code",
   "execution_count": null,
   "metadata": {},
   "outputs": [],
   "source": []
  }
 ],
 "metadata": {
  "kernelspec": {
   "display_name": "Python 3",
   "language": "python",
   "name": "python3"
  },
  "language_info": {
   "codemirror_mode": {
    "name": "ipython",
    "version": 2
   },
   "file_extension": ".py",
   "mimetype": "text/x-python",
   "name": "python",
   "nbconvert_exporter": "python",
   "pygments_lexer": "ipython2",
   "version": "2.7.17"
  }
 },
 "nbformat": 4,
 "nbformat_minor": 4
}
