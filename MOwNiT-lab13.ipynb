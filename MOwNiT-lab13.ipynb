{
 "cells": [
  {
   "cell_type": "markdown",
   "metadata": {},
   "source": [
    "### Zadanie 1\n",
    "\n",
    "Zaimplementuj generator liniowy kongruentny wg wzoru:\n",
    "$$X_{i+1}=(aX_i+c)\\ mod\\ m$$\n",
    "Generator ma zwracać wartości w zakresie [0...1], wartości startowe wg własnego wyboru. \n",
    "\n",
    "Przetestuj jego działanie dla różnych zestawów parametrów:\n",
    "\n",
    "|     a         |   c           | m         |\n",
    "| ------------- |:-------------:| ---------:|\n",
    "|  1103515245   | 12345         |$$2^{32}$$ |\n",
    "| 1229          | 1             | $$2048$$  |\n",
    "| 1597          | 51749         | $$24494$$ |\n",
    "| $2^{16}+3$    | 0             | $ 2^{31}$ |\n",
    "\n",
    "Zwizualizuj rozkład generowanych liczby (histogram lub lepiej chmura punktów 2-D lub 3D ($X_i, X_{i+1}$), ($X_i, X_{i+1}, X_{i+2}$)). Oceń jakość generowanych rozkładów. "
   ]
  },
  {
   "cell_type": "markdown",
   "metadata": {},
   "source": [
    "### Zadanie 2\n",
    "Zapoznaj się z generetorem dostępnym w bibliotece numpy. Opisz krótko jaki to generator i jak działa. Przeanalizuj generowany przez niego rozkład podobnie jak w poprzednim zadaniu. "
   ]
  },
  {
   "cell_type": "markdown",
   "metadata": {},
   "source": [
    "### Zadanie 3\n",
    "Zaimplementuj metodą całkowania Monte Carlo i zastosuj ją wobec następujących całek:\n",
    "$$ \\int_1^2 \\frac{1}{x^2}\\ dx $$\n",
    "$$ \\int_1^6 \\frac{1}{\\sqrt{x^5+8}}\\ dx $$\n",
    "$$ \\int_1^{22} x^2+2x\\ dx $$\n",
    "Oblicz także objętości brył:\n",
    "- kula o promioniu 5\n",
    "- stożek o wysokości 10 i promieniu podstawy 10\n",
    "- bryła będąca różnicą kuli o promieniu 10 i walca o wysokości 6 i promieniu podstawy 3; środek walca pokrywa się z środkiem kuli.\n",
    "\n",
    "Przeanalizuj jak wybór liczby próbek wpływa na wyniki obliczeń. \n",
    "\n",
    "#### Zadanie dodatkowe\n",
    "Zastosuj do obliczeń własny generator kongruentny (w domyśle ten z gorszym rozkładem) i porównaj z generatorem.  "
   ]
  },
  {
   "cell_type": "code",
   "execution_count": null,
   "metadata": {},
   "outputs": [],
   "source": []
  }
 ],
 "metadata": {
  "kernelspec": {
   "display_name": "Python 3",
   "language": "python",
   "name": "python3"
  },
  "language_info": {
   "codemirror_mode": {
    "name": "ipython",
    "version": 2
   },
   "file_extension": ".py",
   "mimetype": "text/x-python",
   "name": "python",
   "nbconvert_exporter": "python",
   "pygments_lexer": "ipython2",
   "version": "2.7.17"
  }
 },
 "nbformat": 4,
 "nbformat_minor": 4
}
